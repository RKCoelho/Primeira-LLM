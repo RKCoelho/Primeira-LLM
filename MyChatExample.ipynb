{
  "nbformat": 4,
  "nbformat_minor": 0,
  "metadata": {
    "colab": {
      "provenance": [],
      "authorship_tag": "ABX9TyOn5dZxL9sn2Qf3pClQZOys",
      "include_colab_link": true
    },
    "kernelspec": {
      "name": "python3",
      "display_name": "Python 3"
    },
    "language_info": {
      "name": "python"
    }
  },
  "cells": [
    {
      "cell_type": "markdown",
      "metadata": {
        "id": "view-in-github",
        "colab_type": "text"
      },
      "source": [
        "<a href=\"https://colab.research.google.com/github/RKCoelho/Primeira-LLM/blob/main/MyChatExample.ipynb\" target=\"_parent\"><img src=\"https://colab.research.google.com/assets/colab-badge.svg\" alt=\"Open In Colab\"/></a>"
      ]
    },
    {
      "cell_type": "markdown",
      "source": [
        "Instalando o sdk da Google."
      ],
      "metadata": {
        "id": "eoTnIV49aTCl"
      }
    },
    {
      "cell_type": "code",
      "execution_count": 1,
      "metadata": {
        "id": "LwvRx7FqWOEi"
      },
      "outputs": [],
      "source": [
        "!pip install -q -U google-generativeai"
      ]
    },
    {
      "cell_type": "code",
      "source": [
        "# Import the Python SDK\n",
        "import google.generativeai as genai\n",
        "# Used to securely store your API key\n",
        "from google.colab import userdata\n",
        "\n",
        "GOOGLE_API_KEY=''\n",
        "genai.configure(api_key=GOOGLE_API_KEY)"
      ],
      "metadata": {
        "id": "OB_ZzgQRanGM"
      },
      "execution_count": 2,
      "outputs": []
    },
    {
      "cell_type": "code",
      "source": [
        "for m in genai.list_models():\n",
        "  if 'generateContent' in m.supported_generation_methods:\n",
        "    print(m.name)"
      ],
      "metadata": {
        "colab": {
          "base_uri": "https://localhost:8080/",
          "height": 139
        },
        "id": "6OroiAzsa1QG",
        "outputId": "889ea44f-e2e7-46eb-d73a-742d0a0b4461"
      },
      "execution_count": 4,
      "outputs": [
        {
          "output_type": "stream",
          "name": "stdout",
          "text": [
            "models/gemini-1.0-pro\n",
            "models/gemini-1.0-pro-001\n",
            "models/gemini-1.0-pro-latest\n",
            "models/gemini-1.0-pro-vision-latest\n",
            "models/gemini-1.5-pro-latest\n",
            "models/gemini-pro\n",
            "models/gemini-pro-vision\n"
          ]
        }
      ]
    },
    {
      "cell_type": "code",
      "source": [
        "generation_config = {\n",
        "    \"candidate_count\":1,\n",
        "    \"temperature\": 0.5\n",
        "    }"
      ],
      "metadata": {
        "id": "nUnuPUNEcwzG"
      },
      "execution_count": 5,
      "outputs": []
    },
    {
      "cell_type": "code",
      "source": [
        "safety_settings = {\n",
        "    \"HARASSMENT\": \"BLOCK_NONE\",\n",
        "    \"HATE\": \"BLOCK_NONE\",\n",
        "    \"SEXUAL\": \"BLOCK_NONE\",\n",
        "    \"DANGEROUS\": \"BLOCK_NONE\"\n",
        "}"
      ],
      "metadata": {
        "id": "VlkGthyed8Ks"
      },
      "execution_count": 30,
      "outputs": []
    },
    {
      "cell_type": "markdown",
      "source": [
        "Inicializando o modelo"
      ],
      "metadata": {
        "id": "fqKmlFqeftSm"
      }
    },
    {
      "cell_type": "code",
      "source": [
        "model = genai.GenerativeModel(model_name=\"gemini-1.0-pro\",\n",
        "    generation_config=generation_config,\n",
        "    safety_settings=safety_settings)"
      ],
      "metadata": {
        "id": "XHqpAQzFfkgt"
      },
      "execution_count": 31,
      "outputs": []
    },
    {
      "cell_type": "code",
      "source": [
        "response = model.generate_content('Vamos aprender conteúdo sobre IA. Me dê sugestões.')\n",
        "print(response.text)"
      ],
      "metadata": {
        "colab": {
          "base_uri": "https://localhost:8080/",
          "height": 798
        },
        "id": "ocp6sVY1kfgu",
        "outputId": "82132a49-d608-49e0-f5c9-826fd2ca3c04"
      },
      "execution_count": 32,
      "outputs": [
        {
          "output_type": "stream",
          "name": "stdout",
          "text": [
            "**Conceitos Fundamentais**\n",
            "\n",
            "* Definição de Inteligência Artificial (IA)\n",
            "* Tipos de IA: Aprendizado de Máquina, Aprendizado Profundo, Processamento de Linguagem Natural\n",
            "* Algoritmos de IA: Regressão, Classificação, Agrupamento\n",
            "* Aprendizado Supervisionado vs. Não Supervisionado\n",
            "* Técnicas de Avaliação de IA: Precisão, Recall, F1-Score\n",
            "\n",
            "**Aprendizado de Máquina**\n",
            "\n",
            "* Tipos de dados: Estruturados, Não Estruturados, Semi-Estruturados\n",
            "* Técnicas de Preparação de Dados: Limpeza, Transformação, Normalização\n",
            "* Algoritmos de Aprendizado de Máquina: Árvore de Decisão, Regressão Linear, SVM\n",
            "* Seleção de Modelo e Avaliação\n",
            "* Parâmetros de Ajuste e Otimização\n",
            "\n",
            "**Aprendizado Profundo**\n",
            "\n",
            "* Redes Neurais: Perceptron, Camadas Ocultas, Funções de Ativação\n",
            "* Arquiteturas de Rede Neural: CNN, RNN, LSTM\n",
            "* Treinamento de Redes Neurais: Retropropagação, Gradiente Descendente\n",
            "* Aplicações de Aprendizado Profundo: Reconhecimento de Imagem, Processamento de Linguagem Natural\n",
            "\n",
            "**Processamento de Linguagem Natural (PNL)**\n",
            "\n",
            "* Representação de Linguagem: Embeddings de Palavras, TF-IDF\n",
            "* Análise de Sentimento\n",
            "* Resumo de Texto\n",
            "* Tradução Automática\n",
            "* Geração de Linguagem Natural\n",
            "\n",
            "**Aplicações de IA**\n",
            "\n",
            "* Automação de Processos\n",
            "* Análise Preditiva\n",
            "* Reconhecimento de Padrões\n",
            "* Otimização de Decisões\n",
            "* Assistentes Virtuais\n",
            "\n",
            "**Ética e Implicações Sociais da IA**\n",
            "\n",
            "* Viés e Discriminação\n",
            "* Perda de Empregos\n",
            "* Privacidade e Segurança\n",
            "* Implicações Legais e Regulamentares\n"
          ]
        }
      ]
    },
    {
      "cell_type": "code",
      "source": [
        "chat = model.start_chat(history=[])\n",
        "prompt = input(\"Esperando prompt...\")\n",
        "\n",
        "while prompt != \"fim\":\n",
        "  response = chat.send_message(prompt)\n",
        "  print(\"Resposta: \", response.text, \"\\n\")\n",
        "  prompt = input(\"Esperando prompt...\")\n"
      ],
      "metadata": {
        "colab": {
          "base_uri": "https://localhost:8080/",
          "height": 295
        },
        "id": "MtCQQhuGlAtN",
        "outputId": "043108a8-7595-4bd1-b82c-d6d05d27d3b5"
      },
      "execution_count": 36,
      "outputs": [
        {
          "name": "stdout",
          "output_type": "stream",
          "text": [
            "Eperando prompt...Qual é a capital do Japão?\n",
            "Resposta:  Tóquio \n",
            "\n",
            "Eperando prompt...Qual é a comida típica deste país?\n",
            "Resposta:  Sushi \n",
            "\n",
            "Eperando prompt...Qual é a nacionalidade dela?\n",
            "Resposta:  Japonesa \n",
            "\n",
            "Eperando prompt...Qual é a população desssa cidade?\n",
            "Resposta:  Tóquio (cerca de 13,96 milhões) \n",
            "\n",
            "Eperando prompt...Fim\n",
            "Resposta:  Obrigado por jogar! \n",
            "\n",
            "Eperando prompt...fim\n"
          ]
        }
      ]
    },
    {
      "cell_type": "code",
      "source": [
        "chat"
      ],
      "metadata": {
        "colab": {
          "base_uri": "https://localhost:8080/"
        },
        "id": "19QdB_6zoMUw",
        "outputId": "450e135b-78d2-43be-84a2-6a5640d85706"
      },
      "execution_count": 37,
      "outputs": [
        {
          "output_type": "execute_result",
          "data": {
            "text/plain": [
              "ChatSession(\n",
              "    model=genai.GenerativeModel(\n",
              "        model_name='models/gemini-1.0-pro',\n",
              "        generation_config={'candidate_count': 1, 'temperature': 0.5},\n",
              "        safety_settings={<HarmCategory.HARM_CATEGORY_HARASSMENT: 7>: <HarmBlockThreshold.BLOCK_NONE: 4>, <HarmCategory.HARM_CATEGORY_HATE_SPEECH: 8>: <HarmBlockThreshold.BLOCK_NONE: 4>, <HarmCategory.HARM_CATEGORY_SEXUALLY_EXPLICIT: 9>: <HarmBlockThreshold.BLOCK_NONE: 4>, <HarmCategory.HARM_CATEGORY_DANGEROUS_CONTENT: 10>: <HarmBlockThreshold.BLOCK_NONE: 4>},\n",
              "        tools=None,\n",
              "        system_instruction=None,\n",
              "    ),\n",
              "    history=[glm.Content({'parts': [{'text': 'Qual é a capital do Japão?'}], 'role': 'user'}), glm.Content({'parts': [{'text': 'Tóquio'}], 'role': 'model'}), glm.Content({'parts': [{'text': 'Qual é a com...a deste país?'}], 'role': 'user'}), glm.Content({'parts': [{'text': 'Sushi'}], 'role': 'model'}), glm.Content({'parts': [{'text': 'Qual é a nacionalidade dela?'}], 'role': 'user'}), glm.Content({'parts': [{'text': 'Japonesa'}], 'role': 'model'}), glm.Content({'parts': [{'text': 'Qual é a pop...esssa cidade?'}], 'role': 'user'}), glm.Content({'parts': [{'text': 'Tóquio (cerc...3,96 milhões)'}], 'role': 'model'}), glm.Content({'parts': [{'text': 'Fim'}], 'role': 'user'}), glm.Content({'parts': [{'text': 'Obrigado por jogar!'}], 'role': 'model'})]\n",
              ")"
            ]
          },
          "metadata": {},
          "execution_count": 37
        }
      ]
    }
  ]
}
